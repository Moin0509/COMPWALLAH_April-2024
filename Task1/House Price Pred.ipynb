{
 "cells": [
  {
   "cell_type": "markdown",
   "id": "eb7ac481",
   "metadata": {},
   "source": [
    "### Importing necessary libraries"
   ]
  },
  {
   "cell_type": "code",
   "execution_count": 1,
   "id": "a5fed612",
   "metadata": {},
   "outputs": [],
   "source": [
    "import pandas as pd\n",
    "import matplotlib.pyplot as plt\n",
    "import seaborn as sns\n",
    "from sklearn.metrics import mean_absolute_error\n",
    "from sklearn.model_selection import train_test_split\n",
    "from sklearn import svm\n",
    "from sklearn.svm import SVC\n",
    "from sklearn.metrics import mean_absolute_percentage_error\n",
    "from sklearn.ensemble import RandomForestRegressor\n",
    "from sklearn.linear_model import LinearRegression"
   ]
  },
  {
   "cell_type": "markdown",
   "id": "d1dc4521",
   "metadata": {},
   "source": [
    "### Importing dataset"
   ]
  },
  {
   "cell_type": "code",
   "execution_count": 2,
   "id": "9a244d10",
   "metadata": {},
   "outputs": [],
   "source": [
    "df=pd.read_csv(\"HousePricePrediction.csv\")"
   ]
  },
  {
   "cell_type": "code",
   "execution_count": 3,
   "id": "1f8beb03",
   "metadata": {},
   "outputs": [
    {
     "data": {
      "text/html": [
       "<div>\n",
       "<style scoped>\n",
       "    .dataframe tbody tr th:only-of-type {\n",
       "        vertical-align: middle;\n",
       "    }\n",
       "\n",
       "    .dataframe tbody tr th {\n",
       "        vertical-align: top;\n",
       "    }\n",
       "\n",
       "    .dataframe thead th {\n",
       "        text-align: right;\n",
       "    }\n",
       "</style>\n",
       "<table border=\"1\" class=\"dataframe\">\n",
       "  <thead>\n",
       "    <tr style=\"text-align: right;\">\n",
       "      <th></th>\n",
       "      <th>Id</th>\n",
       "      <th>MSSubClass</th>\n",
       "      <th>MSZoning</th>\n",
       "      <th>LotArea</th>\n",
       "      <th>LotConfig</th>\n",
       "      <th>BldgType</th>\n",
       "      <th>OverallCond</th>\n",
       "      <th>YearBuilt</th>\n",
       "      <th>YearRemodAdd</th>\n",
       "      <th>Exterior1st</th>\n",
       "      <th>BsmtFinSF2</th>\n",
       "      <th>TotalBsmtSF</th>\n",
       "      <th>SalePrice</th>\n",
       "    </tr>\n",
       "  </thead>\n",
       "  <tbody>\n",
       "    <tr>\n",
       "      <th>0</th>\n",
       "      <td>0</td>\n",
       "      <td>60</td>\n",
       "      <td>RL</td>\n",
       "      <td>8450</td>\n",
       "      <td>Inside</td>\n",
       "      <td>1Fam</td>\n",
       "      <td>5</td>\n",
       "      <td>2003</td>\n",
       "      <td>2003</td>\n",
       "      <td>VinylSd</td>\n",
       "      <td>0.0</td>\n",
       "      <td>856.0</td>\n",
       "      <td>208500.0</td>\n",
       "    </tr>\n",
       "    <tr>\n",
       "      <th>1</th>\n",
       "      <td>1</td>\n",
       "      <td>20</td>\n",
       "      <td>RL</td>\n",
       "      <td>9600</td>\n",
       "      <td>FR2</td>\n",
       "      <td>1Fam</td>\n",
       "      <td>8</td>\n",
       "      <td>1976</td>\n",
       "      <td>1976</td>\n",
       "      <td>MetalSd</td>\n",
       "      <td>0.0</td>\n",
       "      <td>1262.0</td>\n",
       "      <td>181500.0</td>\n",
       "    </tr>\n",
       "    <tr>\n",
       "      <th>2</th>\n",
       "      <td>2</td>\n",
       "      <td>60</td>\n",
       "      <td>RL</td>\n",
       "      <td>11250</td>\n",
       "      <td>Inside</td>\n",
       "      <td>1Fam</td>\n",
       "      <td>5</td>\n",
       "      <td>2001</td>\n",
       "      <td>2002</td>\n",
       "      <td>VinylSd</td>\n",
       "      <td>0.0</td>\n",
       "      <td>920.0</td>\n",
       "      <td>223500.0</td>\n",
       "    </tr>\n",
       "    <tr>\n",
       "      <th>3</th>\n",
       "      <td>3</td>\n",
       "      <td>70</td>\n",
       "      <td>RL</td>\n",
       "      <td>9550</td>\n",
       "      <td>Corner</td>\n",
       "      <td>1Fam</td>\n",
       "      <td>5</td>\n",
       "      <td>1915</td>\n",
       "      <td>1970</td>\n",
       "      <td>Wd Sdng</td>\n",
       "      <td>0.0</td>\n",
       "      <td>756.0</td>\n",
       "      <td>140000.0</td>\n",
       "    </tr>\n",
       "    <tr>\n",
       "      <th>4</th>\n",
       "      <td>4</td>\n",
       "      <td>60</td>\n",
       "      <td>RL</td>\n",
       "      <td>14260</td>\n",
       "      <td>FR2</td>\n",
       "      <td>1Fam</td>\n",
       "      <td>5</td>\n",
       "      <td>2000</td>\n",
       "      <td>2000</td>\n",
       "      <td>VinylSd</td>\n",
       "      <td>0.0</td>\n",
       "      <td>1145.0</td>\n",
       "      <td>250000.0</td>\n",
       "    </tr>\n",
       "  </tbody>\n",
       "</table>\n",
       "</div>"
      ],
      "text/plain": [
       "   Id  MSSubClass MSZoning  LotArea LotConfig BldgType  OverallCond  \\\n",
       "0   0          60       RL     8450    Inside     1Fam            5   \n",
       "1   1          20       RL     9600       FR2     1Fam            8   \n",
       "2   2          60       RL    11250    Inside     1Fam            5   \n",
       "3   3          70       RL     9550    Corner     1Fam            5   \n",
       "4   4          60       RL    14260       FR2     1Fam            5   \n",
       "\n",
       "   YearBuilt  YearRemodAdd Exterior1st  BsmtFinSF2  TotalBsmtSF  SalePrice  \n",
       "0       2003          2003     VinylSd         0.0        856.0   208500.0  \n",
       "1       1976          1976     MetalSd         0.0       1262.0   181500.0  \n",
       "2       2001          2002     VinylSd         0.0        920.0   223500.0  \n",
       "3       1915          1970     Wd Sdng         0.0        756.0   140000.0  \n",
       "4       2000          2000     VinylSd         0.0       1145.0   250000.0  "
      ]
     },
     "execution_count": 3,
     "metadata": {},
     "output_type": "execute_result"
    }
   ],
   "source": [
    "df.head()"
   ]
  },
  {
   "cell_type": "markdown",
   "id": "72e39690",
   "metadata": {},
   "source": [
    "### Exploratory Data Analysis"
   ]
  },
  {
   "cell_type": "code",
   "execution_count": 4,
   "id": "0a00a2ae",
   "metadata": {},
   "outputs": [
    {
     "name": "stdout",
     "output_type": "stream",
     "text": [
      "<class 'pandas.core.frame.DataFrame'>\n",
      "RangeIndex: 2919 entries, 0 to 2918\n",
      "Data columns (total 13 columns):\n",
      " #   Column        Non-Null Count  Dtype  \n",
      "---  ------        --------------  -----  \n",
      " 0   Id            2919 non-null   int64  \n",
      " 1   MSSubClass    2919 non-null   int64  \n",
      " 2   MSZoning      2915 non-null   object \n",
      " 3   LotArea       2919 non-null   int64  \n",
      " 4   LotConfig     2919 non-null   object \n",
      " 5   BldgType      2919 non-null   object \n",
      " 6   OverallCond   2919 non-null   int64  \n",
      " 7   YearBuilt     2919 non-null   int64  \n",
      " 8   YearRemodAdd  2919 non-null   int64  \n",
      " 9   Exterior1st   2918 non-null   object \n",
      " 10  BsmtFinSF2    2918 non-null   float64\n",
      " 11  TotalBsmtSF   2918 non-null   float64\n",
      " 12  SalePrice     1460 non-null   float64\n",
      "dtypes: float64(3), int64(6), object(4)\n",
      "memory usage: 296.6+ KB\n"
     ]
    }
   ],
   "source": [
    "df.info()"
   ]
  },
  {
   "cell_type": "code",
   "execution_count": 5,
   "id": "c77ed919",
   "metadata": {},
   "outputs": [
    {
     "data": {
      "text/plain": [
       "(2919, 13)"
      ]
     },
     "execution_count": 5,
     "metadata": {},
     "output_type": "execute_result"
    }
   ],
   "source": [
    "df.shape"
   ]
  },
  {
   "cell_type": "code",
   "execution_count": 6,
   "id": "43eb3a76",
   "metadata": {},
   "outputs": [
    {
     "data": {
      "text/html": [
       "<div>\n",
       "<style scoped>\n",
       "    .dataframe tbody tr th:only-of-type {\n",
       "        vertical-align: middle;\n",
       "    }\n",
       "\n",
       "    .dataframe tbody tr th {\n",
       "        vertical-align: top;\n",
       "    }\n",
       "\n",
       "    .dataframe thead th {\n",
       "        text-align: right;\n",
       "    }\n",
       "</style>\n",
       "<table border=\"1\" class=\"dataframe\">\n",
       "  <thead>\n",
       "    <tr style=\"text-align: right;\">\n",
       "      <th></th>\n",
       "      <th>Id</th>\n",
       "      <th>MSSubClass</th>\n",
       "      <th>LotArea</th>\n",
       "      <th>OverallCond</th>\n",
       "      <th>YearBuilt</th>\n",
       "      <th>YearRemodAdd</th>\n",
       "      <th>BsmtFinSF2</th>\n",
       "      <th>TotalBsmtSF</th>\n",
       "      <th>SalePrice</th>\n",
       "    </tr>\n",
       "  </thead>\n",
       "  <tbody>\n",
       "    <tr>\n",
       "      <th>count</th>\n",
       "      <td>2919.000000</td>\n",
       "      <td>2919.000000</td>\n",
       "      <td>2919.000000</td>\n",
       "      <td>2919.000000</td>\n",
       "      <td>2919.000000</td>\n",
       "      <td>2919.000000</td>\n",
       "      <td>2918.000000</td>\n",
       "      <td>2918.000000</td>\n",
       "      <td>1460.000000</td>\n",
       "    </tr>\n",
       "    <tr>\n",
       "      <th>mean</th>\n",
       "      <td>1459.000000</td>\n",
       "      <td>57.137718</td>\n",
       "      <td>10168.114080</td>\n",
       "      <td>5.564577</td>\n",
       "      <td>1971.312778</td>\n",
       "      <td>1984.264474</td>\n",
       "      <td>49.582248</td>\n",
       "      <td>1051.777587</td>\n",
       "      <td>180921.195890</td>\n",
       "    </tr>\n",
       "    <tr>\n",
       "      <th>std</th>\n",
       "      <td>842.787043</td>\n",
       "      <td>42.517628</td>\n",
       "      <td>7886.996359</td>\n",
       "      <td>1.113131</td>\n",
       "      <td>30.291442</td>\n",
       "      <td>20.894344</td>\n",
       "      <td>169.205611</td>\n",
       "      <td>440.766258</td>\n",
       "      <td>79442.502883</td>\n",
       "    </tr>\n",
       "    <tr>\n",
       "      <th>min</th>\n",
       "      <td>0.000000</td>\n",
       "      <td>20.000000</td>\n",
       "      <td>1300.000000</td>\n",
       "      <td>1.000000</td>\n",
       "      <td>1872.000000</td>\n",
       "      <td>1950.000000</td>\n",
       "      <td>0.000000</td>\n",
       "      <td>0.000000</td>\n",
       "      <td>34900.000000</td>\n",
       "    </tr>\n",
       "    <tr>\n",
       "      <th>25%</th>\n",
       "      <td>729.500000</td>\n",
       "      <td>20.000000</td>\n",
       "      <td>7478.000000</td>\n",
       "      <td>5.000000</td>\n",
       "      <td>1953.500000</td>\n",
       "      <td>1965.000000</td>\n",
       "      <td>0.000000</td>\n",
       "      <td>793.000000</td>\n",
       "      <td>129975.000000</td>\n",
       "    </tr>\n",
       "    <tr>\n",
       "      <th>50%</th>\n",
       "      <td>1459.000000</td>\n",
       "      <td>50.000000</td>\n",
       "      <td>9453.000000</td>\n",
       "      <td>5.000000</td>\n",
       "      <td>1973.000000</td>\n",
       "      <td>1993.000000</td>\n",
       "      <td>0.000000</td>\n",
       "      <td>989.500000</td>\n",
       "      <td>163000.000000</td>\n",
       "    </tr>\n",
       "    <tr>\n",
       "      <th>75%</th>\n",
       "      <td>2188.500000</td>\n",
       "      <td>70.000000</td>\n",
       "      <td>11570.000000</td>\n",
       "      <td>6.000000</td>\n",
       "      <td>2001.000000</td>\n",
       "      <td>2004.000000</td>\n",
       "      <td>0.000000</td>\n",
       "      <td>1302.000000</td>\n",
       "      <td>214000.000000</td>\n",
       "    </tr>\n",
       "    <tr>\n",
       "      <th>max</th>\n",
       "      <td>2918.000000</td>\n",
       "      <td>190.000000</td>\n",
       "      <td>215245.000000</td>\n",
       "      <td>9.000000</td>\n",
       "      <td>2010.000000</td>\n",
       "      <td>2010.000000</td>\n",
       "      <td>1526.000000</td>\n",
       "      <td>6110.000000</td>\n",
       "      <td>755000.000000</td>\n",
       "    </tr>\n",
       "  </tbody>\n",
       "</table>\n",
       "</div>"
      ],
      "text/plain": [
       "                Id   MSSubClass        LotArea  OverallCond    YearBuilt  \\\n",
       "count  2919.000000  2919.000000    2919.000000  2919.000000  2919.000000   \n",
       "mean   1459.000000    57.137718   10168.114080     5.564577  1971.312778   \n",
       "std     842.787043    42.517628    7886.996359     1.113131    30.291442   \n",
       "min       0.000000    20.000000    1300.000000     1.000000  1872.000000   \n",
       "25%     729.500000    20.000000    7478.000000     5.000000  1953.500000   \n",
       "50%    1459.000000    50.000000    9453.000000     5.000000  1973.000000   \n",
       "75%    2188.500000    70.000000   11570.000000     6.000000  2001.000000   \n",
       "max    2918.000000   190.000000  215245.000000     9.000000  2010.000000   \n",
       "\n",
       "       YearRemodAdd   BsmtFinSF2  TotalBsmtSF      SalePrice  \n",
       "count   2919.000000  2918.000000  2918.000000    1460.000000  \n",
       "mean    1984.264474    49.582248  1051.777587  180921.195890  \n",
       "std       20.894344   169.205611   440.766258   79442.502883  \n",
       "min     1950.000000     0.000000     0.000000   34900.000000  \n",
       "25%     1965.000000     0.000000   793.000000  129975.000000  \n",
       "50%     1993.000000     0.000000   989.500000  163000.000000  \n",
       "75%     2004.000000     0.000000  1302.000000  214000.000000  \n",
       "max     2010.000000  1526.000000  6110.000000  755000.000000  "
      ]
     },
     "execution_count": 6,
     "metadata": {},
     "output_type": "execute_result"
    }
   ],
   "source": [
    "df.describe()"
   ]
  },
  {
   "cell_type": "code",
   "execution_count": 7,
   "id": "417ddba6",
   "metadata": {},
   "outputs": [
    {
     "name": "stdout",
     "output_type": "stream",
     "text": [
      "RL         2265\n",
      "RM          460\n",
      "FV          139\n",
      "RH           26\n",
      "C (all)      25\n",
      "Name: MSZoning, dtype: int64\n",
      "------------\n",
      "Inside     2133\n",
      "Corner      511\n",
      "CulDSac     176\n",
      "FR2          85\n",
      "FR3          14\n",
      "Name: LotConfig, dtype: int64\n",
      "------------\n",
      "1Fam      2425\n",
      "TwnhsE     227\n",
      "Duplex     109\n",
      "Twnhs       96\n",
      "2fmCon      62\n",
      "Name: BldgType, dtype: int64\n",
      "------------\n",
      "VinylSd    1025\n",
      "MetalSd     450\n",
      "HdBoard     442\n",
      "Wd Sdng     411\n",
      "Plywood     221\n",
      "CemntBd     126\n",
      "BrkFace      87\n",
      "WdShing      56\n",
      "AsbShng      44\n",
      "Stucco       43\n",
      "BrkComm       6\n",
      "AsphShn       2\n",
      "Stone         2\n",
      "CBlock        2\n",
      "ImStucc       1\n",
      "Name: Exterior1st, dtype: int64\n"
     ]
    }
   ],
   "source": [
    "print(df['MSZoning'].value_counts())\n",
    "print('-'*12)\n",
    "print(df['LotConfig'].value_counts())\n",
    "print('-'*12)\n",
    "print(df['BldgType'].value_counts())\n",
    "print('-'*12)\n",
    "print(df['Exterior1st'].value_counts())"
   ]
  },
  {
   "cell_type": "code",
   "execution_count": 8,
   "id": "f5fcec01",
   "metadata": {},
   "outputs": [
    {
     "name": "stdout",
     "output_type": "stream",
     "text": [
      "['RL' 'RM' 'C (all)' 'FV' 'RH' nan] | 5\n",
      "------------\n",
      "['Inside' 'FR2' 'Corner' 'CulDSac' 'FR3'] | 5\n",
      "------------\n",
      "['1Fam' '2fmCon' 'Duplex' 'TwnhsE' 'Twnhs'] | 5\n",
      "------------\n",
      "['VinylSd' 'MetalSd' 'Wd Sdng' 'HdBoard' 'BrkFace' 'WdShing' 'CemntBd'\n",
      " 'Plywood' 'AsbShng' 'Stucco' 'BrkComm' 'AsphShn' 'Stone' 'ImStucc'\n",
      " 'CBlock' nan] | 15\n"
     ]
    }
   ],
   "source": [
    "print(df['MSZoning'].unique(),\"|\",df['MSZoning'].nunique())\n",
    "print('-'*12)\n",
    "print(df['LotConfig'].unique(),\"|\",df['LotConfig'].nunique())\n",
    "print('-'*12)\n",
    "print(df['BldgType'].unique(),\"|\",df['BldgType'].nunique())\n",
    "print('-'*12)\n",
    "print(df['Exterior1st'].unique(),\"|\",df['Exterior1st'].nunique())"
   ]
  },
  {
   "cell_type": "code",
   "execution_count": 9,
   "id": "d037953d",
   "metadata": {},
   "outputs": [],
   "source": [
    "df.drop(['Id'],axis=1,inplace=True)"
   ]
  },
  {
   "cell_type": "code",
   "execution_count": 10,
   "id": "ed9ed866",
   "metadata": {},
   "outputs": [],
   "source": [
    "df['SalePrice'] = df['SalePrice'].fillna(df['SalePrice'].median())"
   ]
  },
  {
   "cell_type": "code",
   "execution_count": 11,
   "id": "490708ec",
   "metadata": {},
   "outputs": [
    {
     "data": {
      "text/plain": [
       "MSSubClass      0\n",
       "MSZoning        4\n",
       "LotArea         0\n",
       "LotConfig       0\n",
       "BldgType        0\n",
       "OverallCond     0\n",
       "YearBuilt       0\n",
       "YearRemodAdd    0\n",
       "Exterior1st     1\n",
       "BsmtFinSF2      1\n",
       "TotalBsmtSF     1\n",
       "SalePrice       0\n",
       "dtype: int64"
      ]
     },
     "execution_count": 11,
     "metadata": {},
     "output_type": "execute_result"
    }
   ],
   "source": [
    "df.isnull().sum()"
   ]
  },
  {
   "cell_type": "code",
   "execution_count": 12,
   "id": "79c44b58",
   "metadata": {},
   "outputs": [],
   "source": [
    "df=df.dropna()"
   ]
  },
  {
   "cell_type": "code",
   "execution_count": 13,
   "id": "5bc8b7e6",
   "metadata": {},
   "outputs": [
    {
     "data": {
      "text/plain": [
       "MSSubClass      0\n",
       "MSZoning        0\n",
       "LotArea         0\n",
       "LotConfig       0\n",
       "BldgType        0\n",
       "OverallCond     0\n",
       "YearBuilt       0\n",
       "YearRemodAdd    0\n",
       "Exterior1st     0\n",
       "BsmtFinSF2      0\n",
       "TotalBsmtSF     0\n",
       "SalePrice       0\n",
       "dtype: int64"
      ]
     },
     "execution_count": 13,
     "metadata": {},
     "output_type": "execute_result"
    }
   ],
   "source": [
    "df.isna().sum()"
   ]
  },
  {
   "cell_type": "markdown",
   "id": "bc6c4a46",
   "metadata": {},
   "source": [
    "### Data Visualization"
   ]
  },
  {
   "cell_type": "code",
   "execution_count": 14,
   "id": "81b8db8e",
   "metadata": {},
   "outputs": [
    {
     "data": {
      "text/plain": [
       "<Axes: xlabel='MSZoning', ylabel='count'>"
      ]
     },
     "execution_count": 14,
     "metadata": {},
     "output_type": "execute_result"
    },
    {
     "data": {
      "image/png": "[encoded data removed]",
      "text/plain": [
       "<Figure size 640x480 with 1 Axes>"
      ]
     },
     "metadata": {},
     "output_type": "display_data"
    }
   ],
   "source": [
    "sns.countplot(data=df,x=df['MSZoning'])"
   ]
  },
  {
   "cell_type": "code",
   "execution_count": 15,
   "id": "f15e5542",
   "metadata": {},
   "outputs": [
    {
     "data": {
      "text/plain": [
       "<Axes: xlabel='LotConfig', ylabel='count'>"
      ]
     },
     "execution_count": 15,
     "metadata": {},
     "output_type": "execute_result"
    },
    {
     "data": {
      "image/png": "[encoded data removed]",
      "text/plain": [
       "<Figure size 640x480 with 1 Axes>"
      ]
     },
     "metadata": {},
     "output_type": "display_data"
    }
   ],
   "source": [
    "sns.countplot(data=df,x=df['LotConfig'])"
   ]
  },
  {
   "cell_type": "code",
   "execution_count": 16,
   "id": "72094c38",
   "metadata": {},
   "outputs": [
    {
     "data": {
      "text/plain": [
       "<Axes: xlabel='BldgType', ylabel='count'>"
      ]
     },
     "execution_count": 16,
     "metadata": {},
     "output_type": "execute_result"
    },
    {
     "data": {
      "image/png": "[encoded data removed]",
      "text/plain": [
       "<Figure size 640x480 with 1 Axes>"
      ]
     },
     "metadata": {},
     "output_type": "display_data"
    }
   ],
   "source": [
    "sns.countplot(data=df,x=df['BldgType'])"
   ]
  },
  {
   "cell_type": "code",
   "execution_count": 17,
   "id": "d00fb92b",
   "metadata": {},
   "outputs": [
    {
     "data": {
      "text/plain": [
       "<Axes: xlabel='Exterior1st', ylabel='count'>"
      ]
     },
     "execution_count": 17,
     "metadata": {},
     "output_type": "execute_result"
    },
    {
     "data": {
      "image/png": "[encoded data removed]",
      "text/plain": [
       "<Figure size 640x480 with 1 Axes>"
      ]
     },
     "metadata": {},
     "output_type": "display_data"
    }
   ],
   "source": [
    "plt.xticks(rotation=90)\n",
    "sns.countplot(data=df,x=df['Exterior1st'])"
   ]
  },
  {
   "cell_type": "code",
   "execution_count": 18,
   "id": "235934ec",
   "metadata": {},
   "outputs": [
    {
     "name": "stderr",
     "output_type": "stream",
     "text": [
      "C:\\Users\\moink\\AppData\\Local\\Temp\\ipykernel_13624\\2915607900.py:1: FutureWarning: The default value of numeric_only in DataFrame.corr is deprecated. In a future version, it will default to False. Select only valid columns or specify the value of numeric_only to silence this warning.\n",
      "  sns.heatmap(df.corr(),cmap = \"Greens\",fmt = '.2f',annot = True)\n"
     ]
    },
    {
     "data": {
      "text/plain": [
       "<Axes: >"
      ]
     },
     "execution_count": 18,
     "metadata": {},
     "output_type": "execute_result"
    },
    {
     "data": {
      "image/png": "[encoded data removed]",
      "text/plain": [
       "<Figure size 640x480 with 2 Axes>"
      ]
     },
     "metadata": {},
     "output_type": "display_data"
    }
   ],
   "source": [
    "sns.heatmap(df.corr(),cmap = \"Greens\",fmt = '.2f',annot = True)"
   ]
  },
  {
   "cell_type": "markdown",
   "id": "206dcc80",
   "metadata": {},
   "source": [
    "### Creating dummies of categorical variables"
   ]
  },
  {
   "cell_type": "code",
   "execution_count": 19,
   "id": "b1fa26b5",
   "metadata": {},
   "outputs": [],
   "source": [
    "df=pd.get_dummies(df)"
   ]
  },
  {
   "cell_type": "code",
   "execution_count": 20,
   "id": "e1339cda",
   "metadata": {
    "scrolled": true
   },
   "outputs": [
    {
     "data": {
      "text/html": [
       "<div>\n",
       "<style scoped>\n",
       "    .dataframe tbody tr th:only-of-type {\n",
       "        vertical-align: middle;\n",
       "    }\n",
       "\n",
       "    .dataframe tbody tr th {\n",
       "        vertical-align: top;\n",
       "    }\n",
       "\n",
       "    .dataframe thead th {\n",
       "        text-align: right;\n",
       "    }\n",
       "</style>\n",
       "<table border=\"1\" class=\"dataframe\">\n",
       "  <thead>\n",
       "    <tr style=\"text-align: right;\">\n",
       "      <th></th>\n",
       "      <th>MSSubClass</th>\n",
       "      <th>LotArea</th>\n",
       "      <th>OverallCond</th>\n",
       "      <th>YearBuilt</th>\n",
       "      <th>YearRemodAdd</th>\n",
       "      <th>BsmtFinSF2</th>\n",
       "      <th>TotalBsmtSF</th>\n",
       "      <th>SalePrice</th>\n",
       "      <th>MSZoning_C (all)</th>\n",
       "      <th>MSZoning_FV</th>\n",
       "      <th>...</th>\n",
       "      <th>Exterior1st_CemntBd</th>\n",
       "      <th>Exterior1st_HdBoard</th>\n",
       "      <th>Exterior1st_ImStucc</th>\n",
       "      <th>Exterior1st_MetalSd</th>\n",
       "      <th>Exterior1st_Plywood</th>\n",
       "      <th>Exterior1st_Stone</th>\n",
       "      <th>Exterior1st_Stucco</th>\n",
       "      <th>Exterior1st_VinylSd</th>\n",
       "      <th>Exterior1st_Wd Sdng</th>\n",
       "      <th>Exterior1st_WdShing</th>\n",
       "    </tr>\n",
       "  </thead>\n",
       "  <tbody>\n",
       "    <tr>\n",
       "      <th>0</th>\n",
       "      <td>60</td>\n",
       "      <td>8450</td>\n",
       "      <td>5</td>\n",
       "      <td>2003</td>\n",
       "      <td>2003</td>\n",
       "      <td>0.0</td>\n",
       "      <td>856.0</td>\n",
       "      <td>208500.0</td>\n",
       "      <td>0</td>\n",
       "      <td>0</td>\n",
       "      <td>...</td>\n",
       "      <td>0</td>\n",
       "      <td>0</td>\n",
       "      <td>0</td>\n",
       "      <td>0</td>\n",
       "      <td>0</td>\n",
       "      <td>0</td>\n",
       "      <td>0</td>\n",
       "      <td>1</td>\n",
       "      <td>0</td>\n",
       "      <td>0</td>\n",
       "    </tr>\n",
       "    <tr>\n",
       "      <th>1</th>\n",
       "      <td>20</td>\n",
       "      <td>9600</td>\n",
       "      <td>8</td>\n",
       "      <td>1976</td>\n",
       "      <td>1976</td>\n",
       "      <td>0.0</td>\n",
       "      <td>1262.0</td>\n",
       "      <td>181500.0</td>\n",
       "      <td>0</td>\n",
       "      <td>0</td>\n",
       "      <td>...</td>\n",
       "      <td>0</td>\n",
       "      <td>0</td>\n",
       "      <td>0</td>\n",
       "      <td>1</td>\n",
       "      <td>0</td>\n",
       "      <td>0</td>\n",
       "      <td>0</td>\n",
       "      <td>0</td>\n",
       "      <td>0</td>\n",
       "      <td>0</td>\n",
       "    </tr>\n",
       "    <tr>\n",
       "      <th>2</th>\n",
       "      <td>60</td>\n",
       "      <td>11250</td>\n",
       "      <td>5</td>\n",
       "      <td>2001</td>\n",
       "      <td>2002</td>\n",
       "      <td>0.0</td>\n",
       "      <td>920.0</td>\n",
       "      <td>223500.0</td>\n",
       "      <td>0</td>\n",
       "      <td>0</td>\n",
       "      <td>...</td>\n",
       "      <td>0</td>\n",
       "      <td>0</td>\n",
       "      <td>0</td>\n",
       "      <td>0</td>\n",
       "      <td>0</td>\n",
       "      <td>0</td>\n",
       "      <td>0</td>\n",
       "      <td>1</td>\n",
       "      <td>0</td>\n",
       "      <td>0</td>\n",
       "    </tr>\n",
       "    <tr>\n",
       "      <th>3</th>\n",
       "      <td>70</td>\n",
       "      <td>9550</td>\n",
       "      <td>5</td>\n",
       "      <td>1915</td>\n",
       "      <td>1970</td>\n",
       "      <td>0.0</td>\n",
       "      <td>756.0</td>\n",
       "      <td>140000.0</td>\n",
       "      <td>0</td>\n",
       "      <td>0</td>\n",
       "      <td>...</td>\n",
       "      <td>0</td>\n",
       "      <td>0</td>\n",
       "      <td>0</td>\n",
       "      <td>0</td>\n",
       "      <td>0</td>\n",
       "      <td>0</td>\n",
       "      <td>0</td>\n",
       "      <td>0</td>\n",
       "      <td>1</td>\n",
       "      <td>0</td>\n",
       "    </tr>\n",
       "    <tr>\n",
       "      <th>4</th>\n",
       "      <td>60</td>\n",
       "      <td>14260</td>\n",
       "      <td>5</td>\n",
       "      <td>2000</td>\n",
       "      <td>2000</td>\n",
       "      <td>0.0</td>\n",
       "      <td>1145.0</td>\n",
       "      <td>250000.0</td>\n",
       "      <td>0</td>\n",
       "      <td>0</td>\n",
       "      <td>...</td>\n",
       "      <td>0</td>\n",
       "      <td>0</td>\n",
       "      <td>0</td>\n",
       "      <td>0</td>\n",
       "      <td>0</td>\n",
       "      <td>0</td>\n",
       "      <td>0</td>\n",
       "      <td>1</td>\n",
       "      <td>0</td>\n",
       "      <td>0</td>\n",
       "    </tr>\n",
       "  </tbody>\n",
       "</table>\n",
       "<p>5 rows × 38 columns</p>\n",
       "</div>"
      ],
      "text/plain": [
       "   MSSubClass  LotArea  OverallCond  YearBuilt  YearRemodAdd  BsmtFinSF2  \\\n",
       "0          60     8450            5       2003          2003         0.0   \n",
       "1          20     9600            8       1976          1976         0.0   \n",
       "2          60    11250            5       2001          2002         0.0   \n",
       "3          70     9550            5       1915          1970         0.0   \n",
       "4          60    14260            5       2000          2000         0.0   \n",
       "\n",
       "   TotalBsmtSF  SalePrice  MSZoning_C (all)  MSZoning_FV  ...  \\\n",
       "0        856.0   208500.0                 0            0  ...   \n",
       "1       1262.0   181500.0                 0            0  ...   \n",
       "2        920.0   223500.0                 0            0  ...   \n",
       "3        756.0   140000.0                 0            0  ...   \n",
       "4       1145.0   250000.0                 0            0  ...   \n",
       "\n",
       "   Exterior1st_CemntBd  Exterior1st_HdBoard  Exterior1st_ImStucc  \\\n",
       "0                    0                    0                    0   \n",
       "1                    0                    0                    0   \n",
       "2                    0                    0                    0   \n",
       "3                    0                    0                    0   \n",
       "4                    0                    0                    0   \n",
       "\n",
       "   Exterior1st_MetalSd  Exterior1st_Plywood  Exterior1st_Stone  \\\n",
       "0                    0                    0                  0   \n",
       "1                    1                    0                  0   \n",
       "2                    0                    0                  0   \n",
       "3                    0                    0                  0   \n",
       "4                    0                    0                  0   \n",
       "\n",
       "   Exterior1st_Stucco  Exterior1st_VinylSd  Exterior1st_Wd Sdng  \\\n",
       "0                   0                    1                    0   \n",
       "1                   0                    0                    0   \n",
       "2                   0                    1                    0   \n",
       "3                   0                    0                    1   \n",
       "4                   0                    1                    0   \n",
       "\n",
       "   Exterior1st_WdShing  \n",
       "0                    0  \n",
       "1                    0  \n",
       "2                    0  \n",
       "3                    0  \n",
       "4                    0  \n",
       "\n",
       "[5 rows x 38 columns]"
      ]
     },
     "execution_count": 20,
     "metadata": {},
     "output_type": "execute_result"
    }
   ],
   "source": [
    "df.head()"
   ]
  },
  {
   "cell_type": "markdown",
   "id": "481d9cee",
   "metadata": {},
   "source": [
    "### Splitting and model training"
   ]
  },
  {
   "cell_type": "code",
   "execution_count": 21,
   "id": "cb3da2d4",
   "metadata": {},
   "outputs": [],
   "source": [
    "X = df.drop(['SalePrice'], axis=1)\n",
    "Y = df['SalePrice']\n",
    "x_train, x_test, y_train, y_test = train_test_split(X, Y, train_size=0.7, test_size=0.3, random_state=0)"
   ]
  },
  {
   "cell_type": "code",
   "execution_count": 22,
   "id": "10a4501f",
   "metadata": {},
   "outputs": [
    {
     "name": "stdout",
     "output_type": "stream",
     "text": [
      "0.18095970706517064\n"
     ]
    }
   ],
   "source": [
    "model = LinearRegression().fit(x_train, y_train)\n",
    "pred = model.predict(x_test)\n",
    "print(mean_absolute_percentage_error(y_test,pred))"
   ]
  },
  {
   "cell_type": "code",
   "execution_count": 23,
   "id": "d34b108d",
   "metadata": {},
   "outputs": [
    {
     "data": {
      "text/plain": [
       "0.1846978237453232"
      ]
     },
     "execution_count": 23,
     "metadata": {},
     "output_type": "execute_result"
    }
   ],
   "source": [
    "model= RandomForestRegressor(n_estimators=10).fit(x_train,y_train)\n",
    "pred = model.predict(x_test)\n",
    "mean_absolute_percentage_error(y_test,pred)"
   ]
  },
  {
   "cell_type": "code",
   "execution_count": 24,
   "id": "a6310b9d",
   "metadata": {},
   "outputs": [
    {
     "name": "stdout",
     "output_type": "stream",
     "text": [
      "0.1595311293150676\n"
     ]
    }
   ],
   "source": [
    "model = svm.SVR().fit(x_train,y_train)\n",
    "pred = model.predict(x_test)\n",
    "print(mean_absolute_percentage_error(y_test,pred))"
   ]
  },
  {
   "cell_type": "code",
   "execution_count": null,
   "id": "5c695fef",
   "metadata": {},
   "outputs": [],
   "source": []
  }
 ],
 "metadata": {
  "kernelspec": {
   "display_name": "Python 3 (ipykernel)",
   "language": "python",
   "name": "python3"
  },
  "language_info": {
   "codemirror_mode": {
    "name": "ipython",
    "version": 3
   },
   "file_extension": ".py",
   "mimetype": "text/x-python",
   "name": "python",
   "nbconvert_exporter": "python",
   "pygments_lexer": "ipython3",
   "version": "3.11.3"
  }
 },
 "nbformat": 4,
 "nbformat_minor": 5
}
